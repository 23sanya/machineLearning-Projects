{
 "cells": [
  {
   "cell_type": "markdown",
   "metadata": {},
   "source": [
    "## predicting marriage year-Part1\n",
    "this will include the certain process\n",
    "1. Data preperation\n",
    "2. machine learning modelling\n",
    "3. model evaluation.\n",
    "4. exporting the trained  model"
   ]
  },
  {
   "cell_type": "code",
   "execution_count": 306,
   "metadata": {},
   "outputs": [],
   "source": [
    "import pandas as pd\n",
    "import numpy as np\n",
    "import matplotlib.pyplot as plt\n",
    "import seaborn as sns\n",
    "import warnings\n",
    "warnings.filterwarnings('ignore')"
   ]
  },
  {
   "cell_type": "code",
   "execution_count": 307,
   "metadata": {},
   "outputs": [
    {
     "data": {
      "text/html": [
       "<div>\n",
       "<style scoped>\n",
       "    .dataframe tbody tr th:only-of-type {\n",
       "        vertical-align: middle;\n",
       "    }\n",
       "\n",
       "    .dataframe tbody tr th {\n",
       "        vertical-align: top;\n",
       "    }\n",
       "\n",
       "    .dataframe thead th {\n",
       "        text-align: right;\n",
       "    }\n",
       "</style>\n",
       "<table border=\"1\" class=\"dataframe\">\n",
       "  <thead>\n",
       "    <tr style=\"text-align: right;\">\n",
       "      <th></th>\n",
       "      <th>id</th>\n",
       "      <th>gender</th>\n",
       "      <th>height</th>\n",
       "      <th>religion</th>\n",
       "      <th>caste</th>\n",
       "      <th>mother_tongue</th>\n",
       "      <th>profession</th>\n",
       "      <th>location</th>\n",
       "      <th>country</th>\n",
       "      <th>age_of_marriage</th>\n",
       "    </tr>\n",
       "  </thead>\n",
       "  <tbody>\n",
       "    <tr>\n",
       "      <th>0</th>\n",
       "      <td>1</td>\n",
       "      <td>female</td>\n",
       "      <td>5'4\"</td>\n",
       "      <td>NaN</td>\n",
       "      <td>others</td>\n",
       "      <td>Telugu</td>\n",
       "      <td>NaN</td>\n",
       "      <td>London</td>\n",
       "      <td>United Kingdom</td>\n",
       "      <td>21.0</td>\n",
       "    </tr>\n",
       "    <tr>\n",
       "      <th>1</th>\n",
       "      <td>2</td>\n",
       "      <td>male</td>\n",
       "      <td>5'7\"</td>\n",
       "      <td>Jain</td>\n",
       "      <td>Shwetamber</td>\n",
       "      <td>Gujarati</td>\n",
       "      <td>Doctor / Healthcare Professional</td>\n",
       "      <td>Fairfax- VA</td>\n",
       "      <td>USA</td>\n",
       "      <td>32.0</td>\n",
       "    </tr>\n",
       "    <tr>\n",
       "      <th>2</th>\n",
       "      <td>3</td>\n",
       "      <td>male</td>\n",
       "      <td>5'7\"</td>\n",
       "      <td>Hindu</td>\n",
       "      <td>Brahmin</td>\n",
       "      <td>Hindi</td>\n",
       "      <td>Entrepreneurs / Business</td>\n",
       "      <td>Begusarai</td>\n",
       "      <td>India</td>\n",
       "      <td>32.0</td>\n",
       "    </tr>\n",
       "    <tr>\n",
       "      <th>3</th>\n",
       "      <td>4</td>\n",
       "      <td>female</td>\n",
       "      <td>5'0\"</td>\n",
       "      <td>Hindu</td>\n",
       "      <td>Thakur</td>\n",
       "      <td>Hindi</td>\n",
       "      <td>Architect</td>\n",
       "      <td>Mumbai</td>\n",
       "      <td>India</td>\n",
       "      <td>30.0</td>\n",
       "    </tr>\n",
       "    <tr>\n",
       "      <th>4</th>\n",
       "      <td>5</td>\n",
       "      <td>male</td>\n",
       "      <td>5'5\"</td>\n",
       "      <td>Christian</td>\n",
       "      <td>Born Again</td>\n",
       "      <td>Malayalam</td>\n",
       "      <td>Sales Professional / Marketing</td>\n",
       "      <td>Sulthan Bathery</td>\n",
       "      <td>India</td>\n",
       "      <td>30.0</td>\n",
       "    </tr>\n",
       "  </tbody>\n",
       "</table>\n",
       "</div>"
      ],
      "text/plain": [
       "   id  gender height   religion        caste mother_tongue  \\\n",
       "0   1  female   5'4\"        NaN       others        Telugu   \n",
       "1   2    male   5'7\"       Jain   Shwetamber      Gujarati   \n",
       "2   3    male   5'7\"      Hindu      Brahmin         Hindi   \n",
       "3   4  female   5'0\"      Hindu       Thakur         Hindi   \n",
       "4   5    male   5'5\"  Christian   Born Again     Malayalam   \n",
       "\n",
       "                         profession         location          country  \\\n",
       "0                               NaN           London   United Kingdom   \n",
       "1  Doctor / Healthcare Professional      Fairfax- VA              USA   \n",
       "2         Entrepreneurs / Business         Begusarai            India   \n",
       "3                         Architect           Mumbai            India   \n",
       "4    Sales Professional / Marketing  Sulthan Bathery            India   \n",
       "\n",
       "   age_of_marriage  \n",
       "0             21.0  \n",
       "1             32.0  \n",
       "2             32.0  \n",
       "3             30.0  \n",
       "4             30.0  "
      ]
     },
     "execution_count": 307,
     "metadata": {},
     "output_type": "execute_result"
    }
   ],
   "source": [
    "## now loading the datasets.\n",
    "df=pd.read_csv('age_of_marriage_data.csv')\n",
    "df.head()\n"
   ]
  },
  {
   "cell_type": "markdown",
   "metadata": {},
   "source": [
    "### Exploratory data analysis\n"
   ]
  },
  {
   "cell_type": "code",
   "execution_count": 308,
   "metadata": {},
   "outputs": [
    {
     "data": {
      "text/plain": [
       "(2567, 10)"
      ]
     },
     "execution_count": 308,
     "metadata": {},
     "output_type": "execute_result"
    }
   ],
   "source": [
    "df.shape\n",
    "\n",
    "## this means we have in total of 2567 rows and 10 columns"
   ]
  },
  {
   "cell_type": "code",
   "execution_count": 309,
   "metadata": {},
   "outputs": [
    {
     "name": "stdout",
     "output_type": "stream",
     "text": [
      "10\n"
     ]
    }
   ],
   "source": [
    "## the total number of columns in the datasets\n",
    "df.columns\n",
    "print(len(df.columns))"
   ]
  },
  {
   "cell_type": "code",
   "execution_count": 310,
   "metadata": {},
   "outputs": [
    {
     "name": "stdout",
     "output_type": "stream",
     "text": [
      "the  number of categorical features are 8-->\n",
      "['gender', 'height', 'religion', 'caste', 'mother_tongue', 'profession', 'location', 'country']\n",
      "the number of numerical features are 2-->\n",
      "['id', 'age_of_marriage']\n"
     ]
    }
   ],
   "source": [
    "## categorizing the features on the basis of their type\n",
    "categorical_features=[features for features in df.columns if df[features].dtype=='O']\n",
    "numerical_features=[features for features in df.columns if features not in categorical_features ]\n",
    "categorical_features\n",
    "\n",
    "\n",
    "print('the  number of categorical features are {}-->'.format(len(categorical_features)))\n",
    "print(categorical_features)\n",
    "\n",
    "print('the number of numerical features are {}-->'.format(len(numerical_features)))\n",
    "print(numerical_features)"
   ]
  },
  {
   "cell_type": "code",
   "execution_count": 311,
   "metadata": {},
   "outputs": [
    {
     "data": {
      "text/plain": [
       "id                   0\n",
       "gender              29\n",
       "height             118\n",
       "religion           635\n",
       "caste              142\n",
       "mother_tongue      164\n",
       "profession         330\n",
       "location           155\n",
       "country             16\n",
       "age_of_marriage     19\n",
       "dtype: int64"
      ]
     },
     "execution_count": 311,
     "metadata": {},
     "output_type": "execute_result"
    }
   ],
   "source": [
    "## checking if there are any missing values in the datasets\n",
    "df.isnull().sum()"
   ]
  },
  {
   "cell_type": "code",
   "execution_count": 312,
   "metadata": {},
   "outputs": [],
   "source": [
    "##  for the features who are having the most missing values i.e religion,profession \n",
    "## using the random sample imputation for the datset.\n",
    "features=['religion','profession']\n",
    "for x in features:\n",
    "    df[x]=df[x]\n",
    "    random_sample=df[x].dropna().sample(df[x].isnull().sum(),random_state=0)\n",
    "    random_sample.index=df[df[x].isnull()].index\n",
    "    df.loc[df[x].isnull(),x]=random_sample\n",
    "    \n",
    " "
   ]
  },
  {
   "cell_type": "code",
   "execution_count": 313,
   "metadata": {},
   "outputs": [
    {
     "data": {
      "text/plain": [
       "id                 0.000000\n",
       "gender             1.129723\n",
       "height             4.596806\n",
       "religion           0.000000\n",
       "caste              5.531749\n",
       "mother_tongue      6.388781\n",
       "profession         0.000000\n",
       "location           6.038177\n",
       "country            0.623296\n",
       "age_of_marriage    0.740164\n",
       "dtype: float64"
      ]
     },
     "execution_count": 313,
     "metadata": {},
     "output_type": "execute_result"
    }
   ],
   "source": [
    "## again checking the null values in the datasets\n",
    "df.isnull().sum()*100/len(df)"
   ]
  },
  {
   "cell_type": "code",
   "execution_count": 314,
   "metadata": {},
   "outputs": [],
   "source": [
    "## handling the missing values with 5 percent or more with the most recured value\n",
    "features_to_be_replacedwith_mode=['caste','mother_tongue','location','height']\n",
    "## calculating the mode for the following variables\n",
    "for variable in features_to_be_replacedwith_mode:\n",
    "    mode=df[variable].value_counts().index[0]\n",
    "    df[variable].fillna(mode,inplace=True)"
   ]
  },
  {
   "cell_type": "code",
   "execution_count": 315,
   "metadata": {},
   "outputs": [
    {
     "data": {
      "text/plain": [
       "id                  0\n",
       "gender             29\n",
       "height              0\n",
       "religion            0\n",
       "caste               0\n",
       "mother_tongue       0\n",
       "profession          0\n",
       "location            0\n",
       "country            16\n",
       "age_of_marriage    19\n",
       "dtype: int64"
      ]
     },
     "execution_count": 315,
     "metadata": {},
     "output_type": "execute_result"
    }
   ],
   "source": [
    "## checking the missing values again\n",
    "df.isnull().sum()"
   ]
  },
  {
   "cell_type": "code",
   "execution_count": 316,
   "metadata": {},
   "outputs": [],
   "source": [
    "## dropping the gender and country missing values\n",
    "def replace_with_mode(df,variable):\n",
    "    mode=df[variable].value_counts().index[0]\n",
    "    df[variable].fillna(mode,inplace=True)"
   ]
  },
  {
   "cell_type": "code",
   "execution_count": 317,
   "metadata": {},
   "outputs": [],
   "source": [
    "replace_with_mode(df,'gender')\n",
    "replace_with_mode(df,'country')"
   ]
  },
  {
   "cell_type": "code",
   "execution_count": 318,
   "metadata": {},
   "outputs": [
    {
     "data": {
      "text/plain": [
       "id                  0\n",
       "gender              0\n",
       "height              0\n",
       "religion            0\n",
       "caste               0\n",
       "mother_tongue       0\n",
       "profession          0\n",
       "location            0\n",
       "country             0\n",
       "age_of_marriage    19\n",
       "dtype: int64"
      ]
     },
     "execution_count": 318,
     "metadata": {},
     "output_type": "execute_result"
    }
   ],
   "source": [
    "## checking the presence of any missing values\n",
    "df.isnull().sum()"
   ]
  },
  {
   "cell_type": "code",
   "execution_count": 319,
   "metadata": {},
   "outputs": [],
   "source": [
    "replace_with_mode(df,'age_of_marriage')"
   ]
  },
  {
   "cell_type": "code",
   "execution_count": 320,
   "metadata": {},
   "outputs": [
    {
     "data": {
      "text/plain": [
       "id                 0\n",
       "gender             0\n",
       "height             0\n",
       "religion           0\n",
       "caste              0\n",
       "mother_tongue      0\n",
       "profession         0\n",
       "location           0\n",
       "country            0\n",
       "age_of_marriage    0\n",
       "dtype: int64"
      ]
     },
     "execution_count": 320,
     "metadata": {},
     "output_type": "execute_result"
    }
   ],
   "source": [
    "df.isnull().sum()"
   ]
  },
  {
   "cell_type": "code",
   "execution_count": 321,
   "metadata": {},
   "outputs": [
    {
     "data": {
      "image/png": "[encoded data removed]",
      "text/plain": [
       "<Figure size 432x288 with 1 Axes>"
      ]
     },
     "metadata": {
      "needs_background": "light"
     },
     "output_type": "display_data"
    }
   ],
   "source": [
    "## now we dont have null values anymore\n",
    "## checking if the dataset is imbalanced or not\n",
    "plt.hist(df['age_of_marriage'],bins=40)\n",
    "plt.show()"
   ]
  },
  {
   "cell_type": "code",
   "execution_count": 322,
   "metadata": {},
   "outputs": [
    {
     "data": {
      "text/plain": [
       "<matplotlib.axes._subplots.AxesSubplot at 0x22241173f10>"
      ]
     },
     "execution_count": 322,
     "metadata": {},
     "output_type": "execute_result"
    },
    {
     "data": {
      "image/png": "[encoded data removed]",
      "text/plain": [
       "<Figure size 432x288 with 1 Axes>"
      ]
     },
     "metadata": {
      "needs_background": "light"
     },
     "output_type": "display_data"
    }
   ],
   "source": [
    "## checking the outliers if any\n",
    "sns.boxplot(df['age_of_marriage'])"
   ]
  },
  {
   "cell_type": "markdown",
   "metadata": {},
   "source": [
    "## removal of the outliers-\n",
    "using the 3 standered deviation method\n"
   ]
  },
  {
   "cell_type": "code",
   "execution_count": 323,
   "metadata": {},
   "outputs": [
    {
     "data": {
      "text/plain": [
       "2.7921819900668523"
      ]
     },
     "execution_count": 323,
     "metadata": {},
     "output_type": "execute_result"
    }
   ],
   "source": [
    "df['age_of_marriage'].std()"
   ]
  },
  {
   "cell_type": "code",
   "execution_count": 324,
   "metadata": {},
   "outputs": [
    {
     "data": {
      "text/plain": [
       "38.02750039170426"
      ]
     },
     "execution_count": 324,
     "metadata": {},
     "output_type": "execute_result"
    }
   ],
   "source": [
    "upper_limit=df['age_of_marriage'].mean()+3* df['age_of_marriage'].std()\n",
    "upper_limit"
   ]
  },
  {
   "cell_type": "code",
   "execution_count": 325,
   "metadata": {},
   "outputs": [
    {
     "data": {
      "text/plain": [
       "21.274408451303145"
      ]
     },
     "execution_count": 325,
     "metadata": {},
     "output_type": "execute_result"
    }
   ],
   "source": [
    "##similarly calculating the lower limit\n",
    "lower_limit=df['age_of_marriage'].mean()-3*df['age_of_marriage'].std()\n",
    "lower_limit"
   ]
  },
  {
   "cell_type": "code",
   "execution_count": 326,
   "metadata": {},
   "outputs": [
    {
     "data": {
      "text/html": [
       "<div>\n",
       "<style scoped>\n",
       "    .dataframe tbody tr th:only-of-type {\n",
       "        vertical-align: middle;\n",
       "    }\n",
       "\n",
       "    .dataframe tbody tr th {\n",
       "        vertical-align: top;\n",
       "    }\n",
       "\n",
       "    .dataframe thead th {\n",
       "        text-align: right;\n",
       "    }\n",
       "</style>\n",
       "<table border=\"1\" class=\"dataframe\">\n",
       "  <thead>\n",
       "    <tr style=\"text-align: right;\">\n",
       "      <th></th>\n",
       "      <th>id</th>\n",
       "      <th>gender</th>\n",
       "      <th>height</th>\n",
       "      <th>religion</th>\n",
       "      <th>caste</th>\n",
       "      <th>mother_tongue</th>\n",
       "      <th>profession</th>\n",
       "      <th>location</th>\n",
       "      <th>country</th>\n",
       "      <th>age_of_marriage</th>\n",
       "    </tr>\n",
       "  </thead>\n",
       "  <tbody>\n",
       "    <tr>\n",
       "      <th>1991</th>\n",
       "      <td>1992</td>\n",
       "      <td>female</td>\n",
       "      <td>5'5\"</td>\n",
       "      <td>Hindu</td>\n",
       "      <td>Baishnab</td>\n",
       "      <td>Bengali</td>\n",
       "      <td>Not working</td>\n",
       "      <td>West Bengal</td>\n",
       "      <td>India</td>\n",
       "      <td>26.0</td>\n",
       "    </tr>\n",
       "    <tr>\n",
       "      <th>868</th>\n",
       "      <td>869</td>\n",
       "      <td>female</td>\n",
       "      <td>5'1\"</td>\n",
       "      <td>Hindu</td>\n",
       "      <td>Lingayath</td>\n",
       "      <td>Kannada</td>\n",
       "      <td>Not Specified</td>\n",
       "      <td>Belagavi / Belagaum</td>\n",
       "      <td>India</td>\n",
       "      <td>31.0</td>\n",
       "    </tr>\n",
       "    <tr>\n",
       "      <th>1144</th>\n",
       "      <td>1145</td>\n",
       "      <td>female</td>\n",
       "      <td>5'6\"</td>\n",
       "      <td>Hindu</td>\n",
       "      <td>Kalita</td>\n",
       "      <td>Assamese</td>\n",
       "      <td>Not Specified</td>\n",
       "      <td>Guwahati</td>\n",
       "      <td>India</td>\n",
       "      <td>27.0</td>\n",
       "    </tr>\n",
       "    <tr>\n",
       "      <th>671</th>\n",
       "      <td>672</td>\n",
       "      <td>male</td>\n",
       "      <td>5'6\"</td>\n",
       "      <td>Hindu</td>\n",
       "      <td>Brahmin</td>\n",
       "      <td>Marathi</td>\n",
       "      <td>Non IT Engineer (Others)</td>\n",
       "      <td>Pune</td>\n",
       "      <td>India</td>\n",
       "      <td>32.0</td>\n",
       "    </tr>\n",
       "    <tr>\n",
       "      <th>31</th>\n",
       "      <td>32</td>\n",
       "      <td>male</td>\n",
       "      <td>5'3\"</td>\n",
       "      <td>Hindu</td>\n",
       "      <td>others</td>\n",
       "      <td>Hindi</td>\n",
       "      <td>Not working</td>\n",
       "      <td>Kannauj</td>\n",
       "      <td>India</td>\n",
       "      <td>27.0</td>\n",
       "    </tr>\n",
       "    <tr>\n",
       "      <th>127</th>\n",
       "      <td>128</td>\n",
       "      <td>female</td>\n",
       "      <td>5'2\"</td>\n",
       "      <td>Hindu</td>\n",
       "      <td>Viswabrahmin</td>\n",
       "      <td>Telugu</td>\n",
       "      <td>Not Specified</td>\n",
       "      <td>Hyderabad</td>\n",
       "      <td>India</td>\n",
       "      <td>27.0</td>\n",
       "    </tr>\n",
       "    <tr>\n",
       "      <th>1013</th>\n",
       "      <td>1014</td>\n",
       "      <td>male</td>\n",
       "      <td>5'11\"</td>\n",
       "      <td>Hindu</td>\n",
       "      <td>others</td>\n",
       "      <td>Hindi</td>\n",
       "      <td>Not working</td>\n",
       "      <td>Mumbai</td>\n",
       "      <td>India</td>\n",
       "      <td>30.0</td>\n",
       "    </tr>\n",
       "    <tr>\n",
       "      <th>2035</th>\n",
       "      <td>2036</td>\n",
       "      <td>female</td>\n",
       "      <td>4'6\"</td>\n",
       "      <td>Hindu</td>\n",
       "      <td>Ahom</td>\n",
       "      <td>Assamese</td>\n",
       "      <td>Banking Professional</td>\n",
       "      <td>Delhi</td>\n",
       "      <td>India</td>\n",
       "      <td>27.0</td>\n",
       "    </tr>\n",
       "    <tr>\n",
       "      <th>1009</th>\n",
       "      <td>1010</td>\n",
       "      <td>male</td>\n",
       "      <td>5'11\"</td>\n",
       "      <td>Hindu</td>\n",
       "      <td>Kayastha</td>\n",
       "      <td>Bengali</td>\n",
       "      <td>Software Professional</td>\n",
       "      <td>Hyderabad</td>\n",
       "      <td>India</td>\n",
       "      <td>35.0</td>\n",
       "    </tr>\n",
       "    <tr>\n",
       "      <th>2142</th>\n",
       "      <td>2143</td>\n",
       "      <td>female</td>\n",
       "      <td>5'0\"</td>\n",
       "      <td>Hindu</td>\n",
       "      <td>others</td>\n",
       "      <td>Hindi</td>\n",
       "      <td>Medical / Healthcare Professional (Others)</td>\n",
       "      <td>Shahjahanpur</td>\n",
       "      <td>India</td>\n",
       "      <td>30.0</td>\n",
       "    </tr>\n",
       "  </tbody>\n",
       "</table>\n",
       "</div>"
      ],
      "text/plain": [
       "        id  gender height religion          caste mother_tongue  \\\n",
       "1991  1992  female   5'5\"    Hindu       Baishnab       Bengali   \n",
       "868    869  female   5'1\"    Hindu      Lingayath       Kannada   \n",
       "1144  1145  female   5'6\"    Hindu         Kalita      Assamese   \n",
       "671    672    male   5'6\"    Hindu        Brahmin       Marathi   \n",
       "31      32    male   5'3\"    Hindu         others         Hindi   \n",
       "127    128  female   5'2\"    Hindu   Viswabrahmin        Telugu   \n",
       "1013  1014    male  5'11\"    Hindu         others         Hindi   \n",
       "2035  2036  female   4'6\"    Hindu           Ahom      Assamese   \n",
       "1009  1010    male  5'11\"    Hindu       Kayastha       Bengali   \n",
       "2142  2143  female   5'0\"    Hindu         others         Hindi   \n",
       "\n",
       "                                      profession             location country  \\\n",
       "1991                                 Not working          West Bengal   India   \n",
       "868                                Not Specified  Belagavi / Belagaum   India   \n",
       "1144                               Not Specified             Guwahati   India   \n",
       "671                     Non IT Engineer (Others)                 Pune   India   \n",
       "31                                   Not working              Kannauj   India   \n",
       "127                                Not Specified            Hyderabad   India   \n",
       "1013                                 Not working               Mumbai   India   \n",
       "2035                        Banking Professional                Delhi   India   \n",
       "1009                       Software Professional            Hyderabad   India   \n",
       "2142  Medical / Healthcare Professional (Others)         Shahjahanpur   India   \n",
       "\n",
       "      age_of_marriage  \n",
       "1991             26.0  \n",
       "868              31.0  \n",
       "1144             27.0  \n",
       "671              32.0  \n",
       "31               27.0  \n",
       "127              27.0  \n",
       "1013             30.0  \n",
       "2035             27.0  \n",
       "1009             35.0  \n",
       "2142             30.0  "
      ]
     },
     "execution_count": 326,
     "metadata": {},
     "output_type": "execute_result"
    }
   ],
   "source": [
    "## removal of the outliers\n",
    "df=df[(df['age_of_marriage']<upper_limit) & (df['age_of_marriage']>lower_limit)]\n",
    "df.sample(10)"
   ]
  },
  {
   "cell_type": "code",
   "execution_count": 327,
   "metadata": {},
   "outputs": [
    {
     "data": {
      "text/plain": [
       "<matplotlib.axes._subplots.AxesSubplot at 0x222411abd60>"
      ]
     },
     "execution_count": 327,
     "metadata": {},
     "output_type": "execute_result"
    },
    {
     "data": {
      "image/png": "[encoded data removed]",
      "text/plain": [
       "<Figure size 432x288 with 1 Axes>"
      ]
     },
     "metadata": {
      "needs_background": "light"
     },
     "output_type": "display_data"
    }
   ],
   "source": [
    "## now lets check if there are any outleirs present or not\n",
    "sns.boxplot(df['age_of_marriage'])"
   ]
  },
  {
   "cell_type": "markdown",
   "metadata": {},
   "source": [
    "now the outlers have been removed "
   ]
  },
  {
   "cell_type": "markdown",
   "metadata": {},
   "source": [
    "## data exploration-\n",
    "taking out insights from the data and converting the categorical into numerical\n",
    "\n",
    "\n"
   ]
  },
  {
   "cell_type": "code",
   "execution_count": 328,
   "metadata": {},
   "outputs": [
    {
     "data": {
      "text/plain": [
       "Index(['id', 'gender', 'height', 'religion', 'caste', 'mother_tongue',\n",
       "       'profession', 'location', 'country', 'age_of_marriage'],\n",
       "      dtype='object')"
      ]
     },
     "execution_count": 328,
     "metadata": {},
     "output_type": "execute_result"
    }
   ],
   "source": [
    "df.columns"
   ]
  },
  {
   "cell_type": "code",
   "execution_count": 329,
   "metadata": {},
   "outputs": [
    {
     "data": {
      "text/plain": [
       "male      1352\n",
       "female    1188\n",
       "Name: gender, dtype: int64"
      ]
     },
     "execution_count": 329,
     "metadata": {},
     "output_type": "execute_result"
    }
   ],
   "source": [
    "df['gender'].value_counts()"
   ]
  },
  {
   "cell_type": "code",
   "execution_count": 330,
   "metadata": {},
   "outputs": [
    {
     "data": {
      "text/plain": [
       "5'3\"     337\n",
       "5'6\"     228\n",
       "5'5\"     225\n",
       "5'4\"     213\n",
       "5'2\"     212\n",
       "5'7\"     212\n",
       "5'8\"     188\n",
       "5'0\"     158\n",
       "5'9\"     135\n",
       "5'1\"     131\n",
       "5'11\"    117\n",
       "5'10\"    103\n",
       "4'5\"      78\n",
       "6'0\"      60\n",
       "4'11\"     30\n",
       "4'6\"      20\n",
       "6'1\"      19\n",
       "4'10\"     18\n",
       "4'7\"      16\n",
       "4'8\"      11\n",
       "4'9\"      10\n",
       "6'2\"       8\n",
       "7'0\"       4\n",
       "6'3\"       2\n",
       "6'4\"       2\n",
       "6'10\"      1\n",
       "6'8\"       1\n",
       "6'5\"       1\n",
       "Name: height, dtype: int64"
      ]
     },
     "execution_count": 330,
     "metadata": {},
     "output_type": "execute_result"
    }
   ],
   "source": [
    "df['height'].value_counts()"
   ]
  },
  {
   "cell_type": "code",
   "execution_count": 331,
   "metadata": {},
   "outputs": [
    {
     "data": {
      "text/plain": [
       "152.4"
      ]
     },
     "execution_count": 331,
     "metadata": {},
     "output_type": "execute_result"
    }
   ],
   "source": [
    "int(df.loc[1,'height'].split('\\'')[0])*30.48\n"
   ]
  },
  {
   "cell_type": "code",
   "execution_count": 332,
   "metadata": {},
   "outputs": [
    {
     "data": {
      "text/plain": [
       "17.78"
      ]
     },
     "execution_count": 332,
     "metadata": {},
     "output_type": "execute_result"
    }
   ],
   "source": [
    "int(df.loc[1,'height'].split('\\'')[1].replace('\"',''))*2.54"
   ]
  },
  {
   "cell_type": "code",
   "execution_count": 333,
   "metadata": {},
   "outputs": [
    {
     "data": {
      "text/plain": [
       "170.18"
      ]
     },
     "execution_count": 333,
     "metadata": {},
     "output_type": "execute_result"
    }
   ],
   "source": [
    "int(df.loc[1,'height'].split('\\'')[0])*30.48 + int(df.loc[1,'height'].split('\\'')[1].replace('\"',''))*2.54"
   ]
  },
  {
   "cell_type": "code",
   "execution_count": 334,
   "metadata": {},
   "outputs": [],
   "source": [
    "def height_tocm(h):\n",
    "    return int(h.split('\\'')[0])*30.48 + int(h.split('\\'')[1].replace('\"',''))*2.54"
   ]
  },
  {
   "cell_type": "code",
   "execution_count": 335,
   "metadata": {},
   "outputs": [],
   "source": [
    "df['height_cm']=df['height'].apply(height_tocm)"
   ]
  },
  {
   "cell_type": "code",
   "execution_count": 336,
   "metadata": {},
   "outputs": [
    {
     "data": {
      "text/html": [
       "<div>\n",
       "<style scoped>\n",
       "    .dataframe tbody tr th:only-of-type {\n",
       "        vertical-align: middle;\n",
       "    }\n",
       "\n",
       "    .dataframe tbody tr th {\n",
       "        vertical-align: top;\n",
       "    }\n",
       "\n",
       "    .dataframe thead th {\n",
       "        text-align: right;\n",
       "    }\n",
       "</style>\n",
       "<table border=\"1\" class=\"dataframe\">\n",
       "  <thead>\n",
       "    <tr style=\"text-align: right;\">\n",
       "      <th></th>\n",
       "      <th>id</th>\n",
       "      <th>gender</th>\n",
       "      <th>height</th>\n",
       "      <th>religion</th>\n",
       "      <th>caste</th>\n",
       "      <th>mother_tongue</th>\n",
       "      <th>profession</th>\n",
       "      <th>location</th>\n",
       "      <th>country</th>\n",
       "      <th>age_of_marriage</th>\n",
       "      <th>height_cm</th>\n",
       "    </tr>\n",
       "  </thead>\n",
       "  <tbody>\n",
       "    <tr>\n",
       "      <th>1</th>\n",
       "      <td>2</td>\n",
       "      <td>male</td>\n",
       "      <td>5'7\"</td>\n",
       "      <td>Jain</td>\n",
       "      <td>Shwetamber</td>\n",
       "      <td>Gujarati</td>\n",
       "      <td>Doctor / Healthcare Professional</td>\n",
       "      <td>Fairfax- VA</td>\n",
       "      <td>USA</td>\n",
       "      <td>32.0</td>\n",
       "      <td>170.18</td>\n",
       "    </tr>\n",
       "    <tr>\n",
       "      <th>2</th>\n",
       "      <td>3</td>\n",
       "      <td>male</td>\n",
       "      <td>5'7\"</td>\n",
       "      <td>Hindu</td>\n",
       "      <td>Brahmin</td>\n",
       "      <td>Hindi</td>\n",
       "      <td>Entrepreneurs / Business</td>\n",
       "      <td>Begusarai</td>\n",
       "      <td>India</td>\n",
       "      <td>32.0</td>\n",
       "      <td>170.18</td>\n",
       "    </tr>\n",
       "    <tr>\n",
       "      <th>3</th>\n",
       "      <td>4</td>\n",
       "      <td>female</td>\n",
       "      <td>5'0\"</td>\n",
       "      <td>Hindu</td>\n",
       "      <td>Thakur</td>\n",
       "      <td>Hindi</td>\n",
       "      <td>Architect</td>\n",
       "      <td>Mumbai</td>\n",
       "      <td>India</td>\n",
       "      <td>30.0</td>\n",
       "      <td>152.40</td>\n",
       "    </tr>\n",
       "    <tr>\n",
       "      <th>4</th>\n",
       "      <td>5</td>\n",
       "      <td>male</td>\n",
       "      <td>5'5\"</td>\n",
       "      <td>Christian</td>\n",
       "      <td>Born Again</td>\n",
       "      <td>Malayalam</td>\n",
       "      <td>Sales Professional / Marketing</td>\n",
       "      <td>Sulthan Bathery</td>\n",
       "      <td>India</td>\n",
       "      <td>30.0</td>\n",
       "      <td>165.10</td>\n",
       "    </tr>\n",
       "    <tr>\n",
       "      <th>5</th>\n",
       "      <td>6</td>\n",
       "      <td>male</td>\n",
       "      <td>5'5\"</td>\n",
       "      <td>Hindu</td>\n",
       "      <td>Valmiki</td>\n",
       "      <td>Hindi</td>\n",
       "      <td>Sportsman</td>\n",
       "      <td>Delhi</td>\n",
       "      <td>India</td>\n",
       "      <td>29.0</td>\n",
       "      <td>165.10</td>\n",
       "    </tr>\n",
       "  </tbody>\n",
       "</table>\n",
       "</div>"
      ],
      "text/plain": [
       "   id  gender height   religion        caste mother_tongue  \\\n",
       "1   2    male   5'7\"       Jain   Shwetamber      Gujarati   \n",
       "2   3    male   5'7\"      Hindu      Brahmin         Hindi   \n",
       "3   4  female   5'0\"      Hindu       Thakur         Hindi   \n",
       "4   5    male   5'5\"  Christian   Born Again     Malayalam   \n",
       "5   6    male   5'5\"      Hindu      Valmiki         Hindi   \n",
       "\n",
       "                         profession         location country  age_of_marriage  \\\n",
       "1  Doctor / Healthcare Professional      Fairfax- VA     USA             32.0   \n",
       "2         Entrepreneurs / Business         Begusarai   India             32.0   \n",
       "3                         Architect           Mumbai   India             30.0   \n",
       "4    Sales Professional / Marketing  Sulthan Bathery   India             30.0   \n",
       "5                         Sportsman            Delhi   India             29.0   \n",
       "\n",
       "   height_cm  \n",
       "1     170.18  \n",
       "2     170.18  \n",
       "3     152.40  \n",
       "4     165.10  \n",
       "5     165.10  "
      ]
     },
     "execution_count": 336,
     "metadata": {},
     "output_type": "execute_result"
    }
   ],
   "source": [
    "df.head()"
   ]
  },
  {
   "cell_type": "code",
   "execution_count": 337,
   "metadata": {},
   "outputs": [],
   "source": [
    "##dropping the height feature from the datset\n",
    "df.drop('height',axis=1,inplace=True)"
   ]
  },
  {
   "cell_type": "code",
   "execution_count": 338,
   "metadata": {},
   "outputs": [
    {
     "data": {
      "text/html": [
       "<div>\n",
       "<style scoped>\n",
       "    .dataframe tbody tr th:only-of-type {\n",
       "        vertical-align: middle;\n",
       "    }\n",
       "\n",
       "    .dataframe tbody tr th {\n",
       "        vertical-align: top;\n",
       "    }\n",
       "\n",
       "    .dataframe thead th {\n",
       "        text-align: right;\n",
       "    }\n",
       "</style>\n",
       "<table border=\"1\" class=\"dataframe\">\n",
       "  <thead>\n",
       "    <tr style=\"text-align: right;\">\n",
       "      <th></th>\n",
       "      <th>id</th>\n",
       "      <th>gender</th>\n",
       "      <th>religion</th>\n",
       "      <th>caste</th>\n",
       "      <th>mother_tongue</th>\n",
       "      <th>profession</th>\n",
       "      <th>location</th>\n",
       "      <th>country</th>\n",
       "      <th>age_of_marriage</th>\n",
       "      <th>height_cm</th>\n",
       "    </tr>\n",
       "  </thead>\n",
       "  <tbody>\n",
       "    <tr>\n",
       "      <th>1</th>\n",
       "      <td>2</td>\n",
       "      <td>male</td>\n",
       "      <td>Jain</td>\n",
       "      <td>Shwetamber</td>\n",
       "      <td>Gujarati</td>\n",
       "      <td>Doctor / Healthcare Professional</td>\n",
       "      <td>Fairfax- VA</td>\n",
       "      <td>USA</td>\n",
       "      <td>32.0</td>\n",
       "      <td>170.18</td>\n",
       "    </tr>\n",
       "    <tr>\n",
       "      <th>2</th>\n",
       "      <td>3</td>\n",
       "      <td>male</td>\n",
       "      <td>Hindu</td>\n",
       "      <td>Brahmin</td>\n",
       "      <td>Hindi</td>\n",
       "      <td>Entrepreneurs / Business</td>\n",
       "      <td>Begusarai</td>\n",
       "      <td>India</td>\n",
       "      <td>32.0</td>\n",
       "      <td>170.18</td>\n",
       "    </tr>\n",
       "    <tr>\n",
       "      <th>3</th>\n",
       "      <td>4</td>\n",
       "      <td>female</td>\n",
       "      <td>Hindu</td>\n",
       "      <td>Thakur</td>\n",
       "      <td>Hindi</td>\n",
       "      <td>Architect</td>\n",
       "      <td>Mumbai</td>\n",
       "      <td>India</td>\n",
       "      <td>30.0</td>\n",
       "      <td>152.40</td>\n",
       "    </tr>\n",
       "    <tr>\n",
       "      <th>4</th>\n",
       "      <td>5</td>\n",
       "      <td>male</td>\n",
       "      <td>Christian</td>\n",
       "      <td>Born Again</td>\n",
       "      <td>Malayalam</td>\n",
       "      <td>Sales Professional / Marketing</td>\n",
       "      <td>Sulthan Bathery</td>\n",
       "      <td>India</td>\n",
       "      <td>30.0</td>\n",
       "      <td>165.10</td>\n",
       "    </tr>\n",
       "    <tr>\n",
       "      <th>5</th>\n",
       "      <td>6</td>\n",
       "      <td>male</td>\n",
       "      <td>Hindu</td>\n",
       "      <td>Valmiki</td>\n",
       "      <td>Hindi</td>\n",
       "      <td>Sportsman</td>\n",
       "      <td>Delhi</td>\n",
       "      <td>India</td>\n",
       "      <td>29.0</td>\n",
       "      <td>165.10</td>\n",
       "    </tr>\n",
       "  </tbody>\n",
       "</table>\n",
       "</div>"
      ],
      "text/plain": [
       "   id  gender   religion        caste mother_tongue  \\\n",
       "1   2    male       Jain   Shwetamber      Gujarati   \n",
       "2   3    male      Hindu      Brahmin         Hindi   \n",
       "3   4  female      Hindu       Thakur         Hindi   \n",
       "4   5    male  Christian   Born Again     Malayalam   \n",
       "5   6    male      Hindu      Valmiki         Hindi   \n",
       "\n",
       "                         profession         location country  age_of_marriage  \\\n",
       "1  Doctor / Healthcare Professional      Fairfax- VA     USA             32.0   \n",
       "2         Entrepreneurs / Business         Begusarai   India             32.0   \n",
       "3                         Architect           Mumbai   India             30.0   \n",
       "4    Sales Professional / Marketing  Sulthan Bathery   India             30.0   \n",
       "5                         Sportsman            Delhi   India             29.0   \n",
       "\n",
       "   height_cm  \n",
       "1     170.18  \n",
       "2     170.18  \n",
       "3     152.40  \n",
       "4     165.10  \n",
       "5     165.10  "
      ]
     },
     "execution_count": 338,
     "metadata": {},
     "output_type": "execute_result"
    }
   ],
   "source": [
    "df.head()"
   ]
  },
  {
   "cell_type": "code",
   "execution_count": 339,
   "metadata": {},
   "outputs": [],
   "source": [
    "## since location does not play important role in this so we will drop the loaction feature\n",
    "df.drop('location',axis=1,inplace=True)"
   ]
  },
  {
   "cell_type": "code",
   "execution_count": 340,
   "metadata": {},
   "outputs": [
    {
     "data": {
      "text/html": [
       "<div>\n",
       "<style scoped>\n",
       "    .dataframe tbody tr th:only-of-type {\n",
       "        vertical-align: middle;\n",
       "    }\n",
       "\n",
       "    .dataframe tbody tr th {\n",
       "        vertical-align: top;\n",
       "    }\n",
       "\n",
       "    .dataframe thead th {\n",
       "        text-align: right;\n",
       "    }\n",
       "</style>\n",
       "<table border=\"1\" class=\"dataframe\">\n",
       "  <thead>\n",
       "    <tr style=\"text-align: right;\">\n",
       "      <th></th>\n",
       "      <th>id</th>\n",
       "      <th>gender</th>\n",
       "      <th>religion</th>\n",
       "      <th>caste</th>\n",
       "      <th>mother_tongue</th>\n",
       "      <th>profession</th>\n",
       "      <th>country</th>\n",
       "      <th>age_of_marriage</th>\n",
       "      <th>height_cm</th>\n",
       "    </tr>\n",
       "  </thead>\n",
       "  <tbody>\n",
       "    <tr>\n",
       "      <th>1</th>\n",
       "      <td>2</td>\n",
       "      <td>male</td>\n",
       "      <td>Jain</td>\n",
       "      <td>Shwetamber</td>\n",
       "      <td>Gujarati</td>\n",
       "      <td>Doctor / Healthcare Professional</td>\n",
       "      <td>USA</td>\n",
       "      <td>32.0</td>\n",
       "      <td>170.18</td>\n",
       "    </tr>\n",
       "    <tr>\n",
       "      <th>2</th>\n",
       "      <td>3</td>\n",
       "      <td>male</td>\n",
       "      <td>Hindu</td>\n",
       "      <td>Brahmin</td>\n",
       "      <td>Hindi</td>\n",
       "      <td>Entrepreneurs / Business</td>\n",
       "      <td>India</td>\n",
       "      <td>32.0</td>\n",
       "      <td>170.18</td>\n",
       "    </tr>\n",
       "  </tbody>\n",
       "</table>\n",
       "</div>"
      ],
      "text/plain": [
       "   id gender religion        caste mother_tongue  \\\n",
       "1   2   male     Jain   Shwetamber      Gujarati   \n",
       "2   3   male    Hindu      Brahmin         Hindi   \n",
       "\n",
       "                         profession country  age_of_marriage  height_cm  \n",
       "1  Doctor / Healthcare Professional     USA             32.0     170.18  \n",
       "2         Entrepreneurs / Business    India             32.0     170.18  "
      ]
     },
     "execution_count": 340,
     "metadata": {},
     "output_type": "execute_result"
    }
   ],
   "source": [
    "df.head(2)"
   ]
  },
  {
   "cell_type": "code",
   "execution_count": 341,
   "metadata": {},
   "outputs": [],
   "source": [
    "## also dropping id columns\n",
    "df.drop('id',axis=1,inplace=True)"
   ]
  },
  {
   "cell_type": "code",
   "execution_count": 342,
   "metadata": {},
   "outputs": [
    {
     "data": {
      "text/html": [
       "<div>\n",
       "<style scoped>\n",
       "    .dataframe tbody tr th:only-of-type {\n",
       "        vertical-align: middle;\n",
       "    }\n",
       "\n",
       "    .dataframe tbody tr th {\n",
       "        vertical-align: top;\n",
       "    }\n",
       "\n",
       "    .dataframe thead th {\n",
       "        text-align: right;\n",
       "    }\n",
       "</style>\n",
       "<table border=\"1\" class=\"dataframe\">\n",
       "  <thead>\n",
       "    <tr style=\"text-align: right;\">\n",
       "      <th></th>\n",
       "      <th>gender</th>\n",
       "      <th>religion</th>\n",
       "      <th>caste</th>\n",
       "      <th>mother_tongue</th>\n",
       "      <th>profession</th>\n",
       "      <th>country</th>\n",
       "      <th>age_of_marriage</th>\n",
       "      <th>height_cm</th>\n",
       "    </tr>\n",
       "  </thead>\n",
       "  <tbody>\n",
       "    <tr>\n",
       "      <th>1</th>\n",
       "      <td>male</td>\n",
       "      <td>Jain</td>\n",
       "      <td>Shwetamber</td>\n",
       "      <td>Gujarati</td>\n",
       "      <td>Doctor / Healthcare Professional</td>\n",
       "      <td>USA</td>\n",
       "      <td>32.0</td>\n",
       "      <td>170.18</td>\n",
       "    </tr>\n",
       "    <tr>\n",
       "      <th>2</th>\n",
       "      <td>male</td>\n",
       "      <td>Hindu</td>\n",
       "      <td>Brahmin</td>\n",
       "      <td>Hindi</td>\n",
       "      <td>Entrepreneurs / Business</td>\n",
       "      <td>India</td>\n",
       "      <td>32.0</td>\n",
       "      <td>170.18</td>\n",
       "    </tr>\n",
       "  </tbody>\n",
       "</table>\n",
       "</div>"
      ],
      "text/plain": [
       "  gender religion        caste mother_tongue  \\\n",
       "1   male     Jain   Shwetamber      Gujarati   \n",
       "2   male    Hindu      Brahmin         Hindi   \n",
       "\n",
       "                         profession country  age_of_marriage  height_cm  \n",
       "1  Doctor / Healthcare Professional     USA             32.0     170.18  \n",
       "2         Entrepreneurs / Business    India             32.0     170.18  "
      ]
     },
     "execution_count": 342,
     "metadata": {},
     "output_type": "execute_result"
    }
   ],
   "source": [
    "df.head(2)"
   ]
  },
  {
   "cell_type": "code",
   "execution_count": 343,
   "metadata": {},
   "outputs": [
    {
     "data": {
      "text/plain": [
       "male      1352\n",
       "female    1188\n",
       "Name: gender, dtype: int64"
      ]
     },
     "execution_count": 343,
     "metadata": {},
     "output_type": "execute_result"
    }
   ],
   "source": [
    "## data exploration\n",
    "df['gender'].value_counts()\n",
    "## using the one hot encoding"
   ]
  },
  {
   "cell_type": "code",
   "execution_count": 344,
   "metadata": {},
   "outputs": [
    {
     "data": {
      "text/plain": [
       " India                   2237\n",
       " USA                      131\n",
       " Canada                    35\n",
       " United Arab Emirates      33\n",
       " United Kingdom            22\n",
       " Australia                 19\n",
       " Malaysia                  17\n",
       " Pakistan                   6\n",
       " New Zealand                6\n",
       " Kuwait                     5\n",
       " Bangladesh                 4\n",
       " Qatar                      3\n",
       " Singapore                  3\n",
       " Germany                    2\n",
       " Netherlands                2\n",
       " Oman                       2\n",
       " Italy                      1\n",
       " Sweden                     1\n",
       " Armenia                    1\n",
       " Bahrain                    1\n",
       " Japan                      1\n",
       " Nigeria                    1\n",
       " Myanmar                    1\n",
       " Philippines                1\n",
       " South Africa               1\n",
       " Ireland                    1\n",
       " Denmark                    1\n",
       " Hong Kong SAR              1\n",
       " Norway                     1\n",
       "Name: country, dtype: int64"
      ]
     },
     "execution_count": 344,
     "metadata": {},
     "output_type": "execute_result"
    }
   ],
   "source": [
    "df['country'].value_counts()\n",
    "\n",
    "## using the label encoding\n"
   ]
  },
  {
   "cell_type": "code",
   "execution_count": 345,
   "metadata": {},
   "outputs": [],
   "source": [
    "## using the one hot encoding in the gender\n",
    "df=pd.get_dummies(df,columns=['gender'],drop_first=True)\n"
   ]
  },
  {
   "cell_type": "code",
   "execution_count": 346,
   "metadata": {},
   "outputs": [
    {
     "data": {
      "text/html": [
       "<div>\n",
       "<style scoped>\n",
       "    .dataframe tbody tr th:only-of-type {\n",
       "        vertical-align: middle;\n",
       "    }\n",
       "\n",
       "    .dataframe tbody tr th {\n",
       "        vertical-align: top;\n",
       "    }\n",
       "\n",
       "    .dataframe thead th {\n",
       "        text-align: right;\n",
       "    }\n",
       "</style>\n",
       "<table border=\"1\" class=\"dataframe\">\n",
       "  <thead>\n",
       "    <tr style=\"text-align: right;\">\n",
       "      <th></th>\n",
       "      <th>religion</th>\n",
       "      <th>caste</th>\n",
       "      <th>mother_tongue</th>\n",
       "      <th>profession</th>\n",
       "      <th>country</th>\n",
       "      <th>age_of_marriage</th>\n",
       "      <th>height_cm</th>\n",
       "      <th>gender_male</th>\n",
       "    </tr>\n",
       "  </thead>\n",
       "  <tbody>\n",
       "    <tr>\n",
       "      <th>1</th>\n",
       "      <td>Jain</td>\n",
       "      <td>Shwetamber</td>\n",
       "      <td>Gujarati</td>\n",
       "      <td>Doctor / Healthcare Professional</td>\n",
       "      <td>USA</td>\n",
       "      <td>32.0</td>\n",
       "      <td>170.18</td>\n",
       "      <td>1</td>\n",
       "    </tr>\n",
       "    <tr>\n",
       "      <th>2</th>\n",
       "      <td>Hindu</td>\n",
       "      <td>Brahmin</td>\n",
       "      <td>Hindi</td>\n",
       "      <td>Entrepreneurs / Business</td>\n",
       "      <td>India</td>\n",
       "      <td>32.0</td>\n",
       "      <td>170.18</td>\n",
       "      <td>1</td>\n",
       "    </tr>\n",
       "    <tr>\n",
       "      <th>3</th>\n",
       "      <td>Hindu</td>\n",
       "      <td>Thakur</td>\n",
       "      <td>Hindi</td>\n",
       "      <td>Architect</td>\n",
       "      <td>India</td>\n",
       "      <td>30.0</td>\n",
       "      <td>152.40</td>\n",
       "      <td>0</td>\n",
       "    </tr>\n",
       "    <tr>\n",
       "      <th>4</th>\n",
       "      <td>Christian</td>\n",
       "      <td>Born Again</td>\n",
       "      <td>Malayalam</td>\n",
       "      <td>Sales Professional / Marketing</td>\n",
       "      <td>India</td>\n",
       "      <td>30.0</td>\n",
       "      <td>165.10</td>\n",
       "      <td>1</td>\n",
       "    </tr>\n",
       "    <tr>\n",
       "      <th>5</th>\n",
       "      <td>Hindu</td>\n",
       "      <td>Valmiki</td>\n",
       "      <td>Hindi</td>\n",
       "      <td>Sportsman</td>\n",
       "      <td>India</td>\n",
       "      <td>29.0</td>\n",
       "      <td>165.10</td>\n",
       "      <td>1</td>\n",
       "    </tr>\n",
       "  </tbody>\n",
       "</table>\n",
       "</div>"
      ],
      "text/plain": [
       "    religion        caste mother_tongue                        profession  \\\n",
       "1       Jain   Shwetamber      Gujarati  Doctor / Healthcare Professional   \n",
       "2      Hindu      Brahmin         Hindi         Entrepreneurs / Business    \n",
       "3      Hindu       Thakur         Hindi                         Architect   \n",
       "4  Christian   Born Again     Malayalam    Sales Professional / Marketing   \n",
       "5      Hindu      Valmiki         Hindi                         Sportsman   \n",
       "\n",
       "  country  age_of_marriage  height_cm  gender_male  \n",
       "1     USA             32.0     170.18            1  \n",
       "2   India             32.0     170.18            1  \n",
       "3   India             30.0     152.40            0  \n",
       "4   India             30.0     165.10            1  \n",
       "5   India             29.0     165.10            1  "
      ]
     },
     "execution_count": 346,
     "metadata": {},
     "output_type": "execute_result"
    }
   ],
   "source": [
    "df.head()"
   ]
  },
  {
   "cell_type": "code",
   "execution_count": 347,
   "metadata": {},
   "outputs": [],
   "source": [
    "## performing the label encoders  for the religion,caste,mother toungue,proffesion and country\n",
    "from sklearn.preprocessing import LabelEncoder\n",
    "labelEncoder=LabelEncoder()\n",
    "\n",
    "features_to_be_encoded=['religion','caste','mother_tongue','profession','country']\n",
    "## assigning the numerical values and storing in the same column \n",
    "for variable in features_to_be_encoded:\n",
    "    df[variable]=labelEncoder.fit_transform(df[variable])"
   ]
  },
  {
   "cell_type": "code",
   "execution_count": 348,
   "metadata": {},
   "outputs": [
    {
     "data": {
      "text/html": [
       "<div>\n",
       "<style scoped>\n",
       "    .dataframe tbody tr th:only-of-type {\n",
       "        vertical-align: middle;\n",
       "    }\n",
       "\n",
       "    .dataframe tbody tr th {\n",
       "        vertical-align: top;\n",
       "    }\n",
       "\n",
       "    .dataframe thead th {\n",
       "        text-align: right;\n",
       "    }\n",
       "</style>\n",
       "<table border=\"1\" class=\"dataframe\">\n",
       "  <thead>\n",
       "    <tr style=\"text-align: right;\">\n",
       "      <th></th>\n",
       "      <th>religion</th>\n",
       "      <th>caste</th>\n",
       "      <th>mother_tongue</th>\n",
       "      <th>profession</th>\n",
       "      <th>country</th>\n",
       "      <th>age_of_marriage</th>\n",
       "      <th>height_cm</th>\n",
       "      <th>gender_male</th>\n",
       "    </tr>\n",
       "  </thead>\n",
       "  <tbody>\n",
       "    <tr>\n",
       "      <th>1</th>\n",
       "      <td>2</td>\n",
       "      <td>34</td>\n",
       "      <td>6</td>\n",
       "      <td>22</td>\n",
       "      <td>26</td>\n",
       "      <td>32.0</td>\n",
       "      <td>170.18</td>\n",
       "      <td>1</td>\n",
       "    </tr>\n",
       "    <tr>\n",
       "      <th>2</th>\n",
       "      <td>1</td>\n",
       "      <td>14</td>\n",
       "      <td>8</td>\n",
       "      <td>25</td>\n",
       "      <td>8</td>\n",
       "      <td>32.0</td>\n",
       "      <td>170.18</td>\n",
       "      <td>1</td>\n",
       "    </tr>\n",
       "    <tr>\n",
       "      <th>3</th>\n",
       "      <td>1</td>\n",
       "      <td>36</td>\n",
       "      <td>8</td>\n",
       "      <td>7</td>\n",
       "      <td>8</td>\n",
       "      <td>30.0</td>\n",
       "      <td>152.40</td>\n",
       "      <td>0</td>\n",
       "    </tr>\n",
       "    <tr>\n",
       "      <th>4</th>\n",
       "      <td>0</td>\n",
       "      <td>13</td>\n",
       "      <td>13</td>\n",
       "      <td>70</td>\n",
       "      <td>8</td>\n",
       "      <td>30.0</td>\n",
       "      <td>165.10</td>\n",
       "      <td>1</td>\n",
       "    </tr>\n",
       "    <tr>\n",
       "      <th>5</th>\n",
       "      <td>1</td>\n",
       "      <td>38</td>\n",
       "      <td>8</td>\n",
       "      <td>76</td>\n",
       "      <td>8</td>\n",
       "      <td>29.0</td>\n",
       "      <td>165.10</td>\n",
       "      <td>1</td>\n",
       "    </tr>\n",
       "  </tbody>\n",
       "</table>\n",
       "</div>"
      ],
      "text/plain": [
       "   religion  caste  mother_tongue  profession  country  age_of_marriage  \\\n",
       "1         2     34              6          22       26             32.0   \n",
       "2         1     14              8          25        8             32.0   \n",
       "3         1     36              8           7        8             30.0   \n",
       "4         0     13             13          70        8             30.0   \n",
       "5         1     38              8          76        8             29.0   \n",
       "\n",
       "   height_cm  gender_male  \n",
       "1     170.18            1  \n",
       "2     170.18            1  \n",
       "3     152.40            0  \n",
       "4     165.10            1  \n",
       "5     165.10            1  "
      ]
     },
     "execution_count": 348,
     "metadata": {},
     "output_type": "execute_result"
    }
   ],
   "source": [
    "df.head()"
   ]
  },
  {
   "cell_type": "code",
   "execution_count": 349,
   "metadata": {},
   "outputs": [
    {
     "data": {
      "text/plain": [
       "Index(['religion', 'caste', 'mother_tongue', 'profession', 'country',\n",
       "       'age_of_marriage', 'height_cm', 'gender_male'],\n",
       "      dtype='object')"
      ]
     },
     "execution_count": 349,
     "metadata": {},
     "output_type": "execute_result"
    }
   ],
   "source": [
    "df.columns"
   ]
  },
  {
   "cell_type": "code",
   "execution_count": 350,
   "metadata": {},
   "outputs": [],
   "source": [
    "## rearranging the final dataset\n",
    "df=df[['religion', 'caste', 'mother_tongue', 'profession', 'country','height_cm', 'gender_male','age_of_marriage']]"
   ]
  },
  {
   "cell_type": "code",
   "execution_count": 351,
   "metadata": {},
   "outputs": [
    {
     "data": {
      "text/html": [
       "<div>\n",
       "<style scoped>\n",
       "    .dataframe tbody tr th:only-of-type {\n",
       "        vertical-align: middle;\n",
       "    }\n",
       "\n",
       "    .dataframe tbody tr th {\n",
       "        vertical-align: top;\n",
       "    }\n",
       "\n",
       "    .dataframe thead th {\n",
       "        text-align: right;\n",
       "    }\n",
       "</style>\n",
       "<table border=\"1\" class=\"dataframe\">\n",
       "  <thead>\n",
       "    <tr style=\"text-align: right;\">\n",
       "      <th></th>\n",
       "      <th>religion</th>\n",
       "      <th>caste</th>\n",
       "      <th>mother_tongue</th>\n",
       "      <th>profession</th>\n",
       "      <th>country</th>\n",
       "      <th>height_cm</th>\n",
       "      <th>gender_male</th>\n",
       "      <th>age_of_marriage</th>\n",
       "    </tr>\n",
       "  </thead>\n",
       "  <tbody>\n",
       "    <tr>\n",
       "      <th>1</th>\n",
       "      <td>2</td>\n",
       "      <td>34</td>\n",
       "      <td>6</td>\n",
       "      <td>22</td>\n",
       "      <td>26</td>\n",
       "      <td>170.18</td>\n",
       "      <td>1</td>\n",
       "      <td>32.0</td>\n",
       "    </tr>\n",
       "    <tr>\n",
       "      <th>2</th>\n",
       "      <td>1</td>\n",
       "      <td>14</td>\n",
       "      <td>8</td>\n",
       "      <td>25</td>\n",
       "      <td>8</td>\n",
       "      <td>170.18</td>\n",
       "      <td>1</td>\n",
       "      <td>32.0</td>\n",
       "    </tr>\n",
       "  </tbody>\n",
       "</table>\n",
       "</div>"
      ],
      "text/plain": [
       "   religion  caste  mother_tongue  profession  country  height_cm  \\\n",
       "1         2     34              6          22       26     170.18   \n",
       "2         1     14              8          25        8     170.18   \n",
       "\n",
       "   gender_male  age_of_marriage  \n",
       "1            1             32.0  \n",
       "2            1             32.0  "
      ]
     },
     "execution_count": 351,
     "metadata": {},
     "output_type": "execute_result"
    }
   ],
   "source": [
    "df.head(2)"
   ]
  },
  {
   "cell_type": "markdown",
   "metadata": {},
   "source": [
    "## Model Creation-\n",
    "1. will be dividing the model into depeindent and the independent features\n",
    "2. then will be dividing the model in train test split.\n",
    "3. using the algorithms in the creation of the model\n",
    "4. using the performance matrix to evaluate the model \n",
    "5. craeting a model pickle file."
   ]
  },
  {
   "cell_type": "code",
   "execution_count": 352,
   "metadata": {},
   "outputs": [],
   "source": [
    "## dividing the features into dependednt and the independent features.\n",
    "X=df.iloc[:,:-1]\n",
    "y=df.iloc[:,-1]\n"
   ]
  },
  {
   "cell_type": "code",
   "execution_count": 353,
   "metadata": {},
   "outputs": [],
   "source": [
    "## splitting into train and test split\n",
    "from sklearn.model_selection import train_test_split\n",
    "X_train,X_test,y_train,y_test=train_test_split(X,y,test_size=0.2,random_state=0)"
   ]
  },
  {
   "cell_type": "markdown",
   "metadata": {},
   "source": [
    "### Linear Regression"
   ]
  },
  {
   "cell_type": "code",
   "execution_count": 354,
   "metadata": {},
   "outputs": [
    {
     "data": {
      "text/plain": [
       "LinearRegression()"
      ]
     },
     "execution_count": 354,
     "metadata": {},
     "output_type": "execute_result"
    }
   ],
   "source": [
    "from sklearn.linear_model import LinearRegression\n",
    "regressor=LinearRegression()\n",
    "regressor.fit(X_train,y_train)"
   ]
  },
  {
   "cell_type": "code",
   "execution_count": 355,
   "metadata": {},
   "outputs": [
    {
     "data": {
      "text/plain": [
       "array([28.9986517 , 30.41752385, 30.48375329, 30.06059576, 29.98752164,\n",
       "       29.83963773, 29.45302609, 29.7547917 , 31.2419419 , 30.11839663,\n",
       "       31.21542554, 29.92163037, 28.98612906, 29.17179955, 28.53685258,\n",
       "       28.83639694, 29.93326273, 29.63568798, 29.80729717, 30.51913979,\n",
       "       29.29487118, 31.13668516, 28.72943458, 29.28874177, 30.72552385,\n",
       "       29.18222937, 29.986817  , 28.62602504, 28.74778188, 30.8411636 ,\n",
       "       31.88876381, 30.80606006, 30.71355213, 29.09555685, 30.59297781,\n",
       "       29.93229826, 28.82559375, 29.60425591, 29.2357364 , 30.81542549,\n",
       "       28.70913645, 30.08951708, 28.35427273, 29.85879401, 29.93031629,\n",
       "       28.85484505, 30.38369212, 29.98377819, 28.06183921, 29.73081591,\n",
       "       28.43387939, 28.55729967, 30.01664515, 29.34423058, 30.67791124,\n",
       "       30.98083696, 31.40929564, 30.50166038, 29.1420082 , 28.62783045,\n",
       "       29.64319382, 29.47735414, 30.82294299, 29.82134535, 29.17205272,\n",
       "       29.18682504, 28.83465502, 31.10572472, 30.26767389, 28.79427496,\n",
       "       29.35670073, 29.20812781, 29.65457529, 29.37110947, 30.10365746,\n",
       "       29.34782604, 30.27498008, 28.68943578, 28.55729967, 29.95886555,\n",
       "       29.7681794 , 30.75605565, 29.65337299, 28.77731   , 29.06972636,\n",
       "       30.2567618 , 30.2751867 , 30.05732897, 30.05678469, 29.34027046,\n",
       "       30.63205493, 30.70019534, 29.39181146, 31.2851544 , 30.59442317,\n",
       "       31.35835934, 30.3628415 , 28.93632306, 28.21350171, 28.65751172,\n",
       "       28.48777452, 30.59380452, 30.37964554, 30.07988048, 29.74988785,\n",
       "       29.28418963, 30.05351668, 28.52405313, 31.12782208, 30.40215436,\n",
       "       30.1274091 , 28.57957804, 29.68721964, 30.97239213, 29.71764972,\n",
       "       30.80185498, 29.47218236, 30.58289502, 29.42879527, 30.11597318,\n",
       "       29.0069939 , 29.50408027, 30.41090294, 28.14670774, 29.32928727,\n",
       "       28.98538096, 30.83189267, 30.682394  , 29.30929263, 29.1328342 ,\n",
       "       30.63306089, 29.43167956, 29.93220286, 30.39950861, 29.09719951,\n",
       "       29.6346251 , 30.90699833, 28.57694699, 30.36883399, 28.95940706,\n",
       "       29.90535283, 29.77497088, 29.96506891, 28.91373247, 29.10756658,\n",
       "       29.17479239, 29.32455245, 31.92537147, 29.44009889, 29.05944836,\n",
       "       28.81730415, 29.56606376, 29.50672405, 31.3249149 , 31.14620259,\n",
       "       29.96851977, 30.34503819, 29.57234245, 28.87513534, 29.19707077,\n",
       "       30.16526992, 30.16968554, 29.11640393, 29.99380831, 30.25337285,\n",
       "       28.3040694 , 30.9416113 , 30.94865456, 29.07250463, 30.17228724,\n",
       "       28.85097087, 30.18221061, 28.91458965, 28.39412734, 30.35281019,\n",
       "       29.35352246, 29.33077557, 30.423003  , 30.49711896, 30.76867897,\n",
       "       28.92662439, 29.83014649, 30.26576901, 30.61181309, 29.64151116,\n",
       "       30.09365265, 29.29931581, 30.99908727, 29.29545153, 29.02921819,\n",
       "       29.55451622, 30.14242149, 30.72207121, 30.98535483, 30.38661669,\n",
       "       30.03612478, 30.4096381 , 30.40570646, 29.40541415, 29.11373018,\n",
       "       31.49121898, 29.82751243, 28.83967423, 29.57784767, 29.95068887,\n",
       "       29.36399641, 30.70286464, 29.58139856, 29.69292817, 29.90331422,\n",
       "       28.59169899, 30.50568444, 29.35375861, 29.330171  , 29.03560215,\n",
       "       29.87264712, 31.4763962 , 30.7687882 , 30.10567029, 30.50905986,\n",
       "       29.11965801, 29.40705486, 29.94010801, 30.86242951, 28.92806653,\n",
       "       31.78108344, 28.17803989, 28.56369784, 31.01207478, 30.04406737,\n",
       "       30.1734511 , 29.55438462, 30.12255913, 29.00838104, 29.24071661,\n",
       "       29.87925409, 29.53217767, 28.94863604, 28.52387327, 28.52100959,\n",
       "       30.05056425, 28.67948466, 29.26301039, 28.84407955, 30.37284733,\n",
       "       29.08678027, 30.01683066, 28.65656715, 29.74127622, 29.09121015,\n",
       "       29.0185786 , 29.17021208, 30.27730269, 29.6659825 , 30.20293256,\n",
       "       29.05094183, 30.47365951, 28.79027319, 29.29438297, 29.6784938 ,\n",
       "       29.60868226, 29.6052579 , 30.1309562 , 29.02444972, 30.52716349,\n",
       "       29.61749228, 29.37948368, 30.11049839, 29.8900657 , 29.38388105,\n",
       "       29.54661722, 30.27215606, 28.10154558, 29.35011384, 28.80552983,\n",
       "       29.32499362, 29.15488884, 29.45804087, 30.48289734, 31.02052129,\n",
       "       29.7724225 , 29.853523  , 31.03288104, 31.46203572, 30.38997603,\n",
       "       29.95768707, 28.88954067, 31.18410033, 31.12259851, 30.04613137,\n",
       "       29.33332088, 31.17450923, 28.916158  , 31.02912316, 29.25703814,\n",
       "       30.58109078, 31.07339603, 29.36491871, 29.02444972, 30.43346357,\n",
       "       28.80617875, 28.73432213, 29.06233265, 29.82092958, 31.06678681,\n",
       "       28.97977865, 28.81454241, 30.4850522 , 30.07299915, 29.32459217,\n",
       "       28.96018088, 29.9554442 , 30.02819041, 30.59033736, 28.75101062,\n",
       "       29.85063871, 30.40809814, 28.94631684, 29.77517513, 29.26174698,\n",
       "       29.11965801, 29.34617377, 30.20220081, 29.57033294, 29.61460799,\n",
       "       29.60137162, 30.51440114, 29.44089491, 29.33938229, 29.73495546,\n",
       "       28.20148675, 28.71057859, 31.20190765, 28.66123832, 29.77599192,\n",
       "       29.74242588, 29.87140465, 28.93285709, 28.63999099, 29.77258368,\n",
       "       30.03038719, 28.42583295, 28.92112305, 28.69437223, 31.86786106,\n",
       "       30.95045411, 29.36822518, 29.29151023, 30.47520617, 30.08760289,\n",
       "       29.9997218 , 28.54757276, 28.75245276, 28.39532274, 29.9538129 ,\n",
       "       30.42413751, 28.69456732, 30.48449955, 30.82000275, 29.83802099,\n",
       "       28.78870327, 29.39322506, 29.89993102, 29.94047709, 29.34792374,\n",
       "       29.50787272, 29.95028668, 29.87586621, 30.84253376, 28.1712242 ,\n",
       "       29.80920333, 30.84757623, 29.96259341, 28.65566118, 30.41109635,\n",
       "       29.75130494, 29.91697738, 29.25749361, 29.40283666, 30.43058386,\n",
       "       28.89862212, 30.57164283, 29.81450789, 30.36476633, 29.28430119,\n",
       "       30.83344894, 28.50942934, 29.1021048 , 28.43900475, 29.78314114,\n",
       "       28.73898973, 28.75794268, 29.42591098, 30.46380501, 27.78280714,\n",
       "       29.62403754, 29.65288643, 29.55792855, 28.77971961, 29.4801132 ,\n",
       "       29.63627657, 27.71263527, 29.1131653 , 29.13938254, 29.92254186,\n",
       "       29.89500075, 28.95099795, 29.56500852, 29.0214998 , 30.12426943,\n",
       "       29.89907098, 29.49892737, 30.99354357, 30.48156611, 29.46007421,\n",
       "       29.67062412, 28.92890446, 30.08005884, 29.82454551, 29.77364117,\n",
       "       30.44431086, 29.91473929, 29.28974511, 30.23725348, 29.48239752,\n",
       "       30.54693625, 28.81879143, 29.33938229, 28.35930088, 31.43607711,\n",
       "       28.76969867, 28.86016569, 28.72240823, 29.38901259, 28.95514136,\n",
       "       28.78129566, 29.26523307, 29.61663593, 29.12912389, 28.39777993,\n",
       "       29.22984106, 28.43939051, 30.88969259, 28.39947054, 28.88893371,\n",
       "       28.39676488, 30.60684135, 30.3392748 , 30.06781985, 30.29100735,\n",
       "       29.0853276 , 28.34099411, 31.44937048, 31.10896241, 29.39487229,\n",
       "       30.50752803, 29.04549789, 29.65203746, 29.34615285, 31.0753228 ,\n",
       "       29.68779207, 29.3001631 , 30.26875445, 28.57699212, 29.35231646,\n",
       "       30.6348874 , 29.6359182 , 29.23065954, 29.83963773, 28.33805461,\n",
       "       29.60868226, 29.57222192, 29.83409882, 29.97452689, 28.95044345,\n",
       "       30.39806646, 30.14352286, 30.39553513, 29.36575306, 28.1030871 ,\n",
       "       30.53482971, 29.13966818, 28.91517462, 29.08388546, 29.62035877,\n",
       "       29.24267714, 30.14719421, 31.25599703, 29.08630883, 30.05160749,\n",
       "       29.05383227, 28.74235775, 29.7384884 , 30.52937943, 30.61784402,\n",
       "       30.38412743, 28.79255052, 29.53422735, 30.87003232, 28.93060869,\n",
       "       30.42381008, 30.2932355 , 29.34226658, 30.13070555, 29.00445687,\n",
       "       28.982581  , 28.84458736, 29.4026423 ])"
      ]
     },
     "execution_count": 355,
     "metadata": {},
     "output_type": "execute_result"
    }
   ],
   "source": [
    "## now predicting the values for the test data\n",
    "prediction=regressor.predict(X_test)\n",
    "prediction"
   ]
  },
  {
   "cell_type": "code",
   "execution_count": 356,
   "metadata": {},
   "outputs": [
    {
     "data": {
      "text/plain": [
       "<matplotlib.axes._subplots.AxesSubplot at 0x222411e3a90>"
      ]
     },
     "execution_count": 356,
     "metadata": {},
     "output_type": "execute_result"
    },
    {
     "data": {
      "image/png": "[encoded data removed]",
      "text/plain": [
       "<Figure size 432x288 with 1 Axes>"
      ]
     },
     "metadata": {
      "needs_background": "light"
     },
     "output_type": "display_data"
    }
   ],
   "source": [
    "## plotting the prediction and the actual test results \n",
    "import seaborn\n",
    "sns.distplot(y_test-prediction)"
   ]
  },
  {
   "cell_type": "markdown",
   "metadata": {},
   "source": [
    "### performance matrix\n",
    "1. using the mean sqaured error \n",
    "2. using the mean absolute error \n",
    "3. using the r2 -score"
   ]
  },
  {
   "cell_type": "code",
   "execution_count": 357,
   "metadata": {},
   "outputs": [
    {
     "name": "stdout",
     "output_type": "stream",
     "text": [
      "the mean absolute error is  1.954242694074265\n",
      "the mean squared error is 6.21062897665579\n"
     ]
    }
   ],
   "source": [
    "from sklearn import metrics\n",
    "import numpy as np\n",
    "\n",
    "print('the mean absolute error is ',metrics.mean_absolute_error(y_test,prediction))\n",
    "print('the mean squared error is', metrics.mean_squared_error(y_test,prediction))"
   ]
  },
  {
   "cell_type": "code",
   "execution_count": 358,
   "metadata": {},
   "outputs": [
    {
     "data": {
      "text/plain": [
       "0.08436636991909374"
      ]
     },
     "execution_count": 358,
     "metadata": {},
     "output_type": "execute_result"
    }
   ],
   "source": [
    "from sklearn.metrics import r2_score\n",
    "score=r2_score(y_test,prediction)\n",
    "score"
   ]
  },
  {
   "cell_type": "markdown",
   "metadata": {},
   "source": [
    "## Random forest regressor"
   ]
  },
  {
   "cell_type": "code",
   "execution_count": 359,
   "metadata": {},
   "outputs": [
    {
     "data": {
      "text/plain": [
       "RandomForestRegressor()"
      ]
     },
     "execution_count": 359,
     "metadata": {},
     "output_type": "execute_result"
    }
   ],
   "source": [
    "from sklearn.ensemble import RandomForestRegressor\n",
    "model=RandomForestRegressor(n_estimators=100)\n",
    "model.fit(X_train,y_train)"
   ]
  },
  {
   "cell_type": "code",
   "execution_count": 360,
   "metadata": {},
   "outputs": [],
   "source": [
    "## prediction\n",
    "prediction=model.predict(X_test)"
   ]
  },
  {
   "cell_type": "code",
   "execution_count": 361,
   "metadata": {},
   "outputs": [
    {
     "data": {
      "text/plain": [
       "<matplotlib.axes._subplots.AxesSubplot at 0x22241258700>"
      ]
     },
     "execution_count": 361,
     "metadata": {},
     "output_type": "execute_result"
    },
    {
     "data": {
      "image/png": "[encoded data removed]",
      "text/plain": [
       "<Figure size 432x288 with 1 Axes>"
      ]
     },
     "metadata": {
      "needs_background": "light"
     },
     "output_type": "display_data"
    }
   ],
   "source": [
    "sns.distplot(y_test-prediction)"
   ]
  },
  {
   "cell_type": "markdown",
   "metadata": {},
   "source": [
    "## performance matrix"
   ]
  },
  {
   "cell_type": "code",
   "execution_count": 362,
   "metadata": {},
   "outputs": [
    {
     "name": "stdout",
     "output_type": "stream",
     "text": [
      "the mean absolute error is  1.6325717800899888\n",
      "the mean squared error is 5.151737642297782\n"
     ]
    }
   ],
   "source": [
    "from sklearn import metrics\n",
    "import numpy as np\n",
    "\n",
    "print('the mean absolute error is ',metrics.mean_absolute_error(y_test,prediction))\n",
    "print('the mean squared error is', metrics.mean_squared_error(y_test,prediction))"
   ]
  },
  {
   "cell_type": "code",
   "execution_count": 363,
   "metadata": {},
   "outputs": [
    {
     "data": {
      "text/plain": [
       "0.24047882165043355"
      ]
     },
     "execution_count": 363,
     "metadata": {},
     "output_type": "execute_result"
    }
   ],
   "source": [
    "from sklearn.metrics import r2_score\n",
    "score=r2_score(y_test,prediction)\n",
    "score"
   ]
  },
  {
   "cell_type": "markdown",
   "metadata": {},
   "source": [
    "1. Hence the score of the Random forest regressor is better than those of the Linear regression\n",
    "2. the mean squared error of the random forest regressor is less than linear regression\n",
    "\n",
    "Hence we are using the model made from Random Forest Regressor"
   ]
  },
  {
   "cell_type": "markdown",
   "metadata": {},
   "source": [
    "## prediction"
   ]
  },
  {
   "cell_type": "code",
   "execution_count": 365,
   "metadata": {},
   "outputs": [
    {
     "data": {
      "text/html": [
       "<div>\n",
       "<style scoped>\n",
       "    .dataframe tbody tr th:only-of-type {\n",
       "        vertical-align: middle;\n",
       "    }\n",
       "\n",
       "    .dataframe tbody tr th {\n",
       "        vertical-align: top;\n",
       "    }\n",
       "\n",
       "    .dataframe thead th {\n",
       "        text-align: right;\n",
       "    }\n",
       "</style>\n",
       "<table border=\"1\" class=\"dataframe\">\n",
       "  <thead>\n",
       "    <tr style=\"text-align: right;\">\n",
       "      <th></th>\n",
       "      <th>religion</th>\n",
       "      <th>caste</th>\n",
       "      <th>mother_tongue</th>\n",
       "      <th>profession</th>\n",
       "      <th>country</th>\n",
       "      <th>height_cm</th>\n",
       "      <th>gender_male</th>\n",
       "      <th>age_of_marriage</th>\n",
       "    </tr>\n",
       "  </thead>\n",
       "  <tbody>\n",
       "    <tr>\n",
       "      <th>1</th>\n",
       "      <td>2</td>\n",
       "      <td>34</td>\n",
       "      <td>6</td>\n",
       "      <td>22</td>\n",
       "      <td>26</td>\n",
       "      <td>170.18</td>\n",
       "      <td>1</td>\n",
       "      <td>32.0</td>\n",
       "    </tr>\n",
       "    <tr>\n",
       "      <th>2</th>\n",
       "      <td>1</td>\n",
       "      <td>14</td>\n",
       "      <td>8</td>\n",
       "      <td>25</td>\n",
       "      <td>8</td>\n",
       "      <td>170.18</td>\n",
       "      <td>1</td>\n",
       "      <td>32.0</td>\n",
       "    </tr>\n",
       "  </tbody>\n",
       "</table>\n",
       "</div>"
      ],
      "text/plain": [
       "   religion  caste  mother_tongue  profession  country  height_cm  \\\n",
       "1         2     34              6          22       26     170.18   \n",
       "2         1     14              8          25        8     170.18   \n",
       "\n",
       "   gender_male  age_of_marriage  \n",
       "1            1             32.0  \n",
       "2            1             32.0  "
      ]
     },
     "execution_count": 365,
     "metadata": {},
     "output_type": "execute_result"
    }
   ],
   "source": [
    "df.head(2)"
   ]
  },
  {
   "cell_type": "code",
   "execution_count": 367,
   "metadata": {},
   "outputs": [],
   "source": [
    "prediction=model.predict([['2','34','6','20','25','170','0']])"
   ]
  },
  {
   "cell_type": "code",
   "execution_count": 368,
   "metadata": {},
   "outputs": [
    {
     "data": {
      "text/plain": [
       "array([32.69])"
      ]
     },
     "execution_count": 368,
     "metadata": {},
     "output_type": "execute_result"
    }
   ],
   "source": [
    "prediction"
   ]
  },
  {
   "cell_type": "code",
   "execution_count": 369,
   "metadata": {},
   "outputs": [
    {
     "data": {
      "text/plain": [
       "array([29.27333333])"
      ]
     },
     "execution_count": 369,
     "metadata": {},
     "output_type": "execute_result"
    }
   ],
   "source": [
    "prediction=model.predict([['1','2','3','4','5','170','1']])\n",
    "prediction"
   ]
  },
  {
   "cell_type": "markdown",
   "metadata": {},
   "source": [
    "## Export Model"
   ]
  },
  {
   "cell_type": "code",
   "execution_count": 370,
   "metadata": {},
   "outputs": [],
   "source": [
    "## creating the pickle file for the model\n",
    "import pickle\n",
    "## saving the model to the file\n",
    "pickle.dump(model,open('modelfile.pkl','wb'))"
   ]
  },
  {
   "cell_type": "code",
   "execution_count": null,
   "metadata": {},
   "outputs": [],
   "source": []
  }
 ],
 "metadata": {
  "kernelspec": {
   "display_name": "Python 3",
   "language": "python",
   "name": "python3"
  },
  "language_info": {
   "codemirror_mode": {
    "name": "ipython",
    "version": 3
   },
   "file_extension": ".py",
   "mimetype": "text/x-python",
   "name": "python",
   "nbconvert_exporter": "python",
   "pygments_lexer": "ipython3",
   "version": "3.8.3"
  }
 },
 "nbformat": 4,
 "nbformat_minor": 4
}
